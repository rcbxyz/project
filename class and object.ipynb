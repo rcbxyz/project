{
 "cells": [
  {
   "cell_type": "code",
   "execution_count": 1,
   "id": "8de027a2",
   "metadata": {},
   "outputs": [],
   "source": [
    "#class is a clasification of real world entity \n",
    "#object is a real world entity that we can touch feel or variable of a classes"
   ]
  },
  {
   "cell_type": "code",
   "execution_count": 17,
   "id": "f9f36630",
   "metadata": {},
   "outputs": [],
   "source": [
    "class car:\n",
    "    pass"
   ]
  },
  {
   "cell_type": "code",
   "execution_count": 18,
   "id": "c39f5c54",
   "metadata": {},
   "outputs": [],
   "source": [
    "audiq7=car()\n",
    "#audiq7 is a variable of a car class"
   ]
  },
  {
   "cell_type": "code",
   "execution_count": 19,
   "id": "0dcbf934",
   "metadata": {},
   "outputs": [],
   "source": [
    "audiq7.millage=10\n",
    "audiq7.year=2020\n",
    "audiq7.make=345\n",
    "audiq7.model=\"fsdf\"\n",
    "#we are trying to wind these variables with the car class \n",
    "#these are the variables of audiq7 hence they are  also variable associated with car class"
   ]
  },
  {
   "cell_type": "code",
   "execution_count": 20,
   "id": "4b5b5cdf",
   "metadata": {},
   "outputs": [
    {
     "data": {
      "text/plain": [
       "10"
      ]
     },
     "execution_count": 20,
     "metadata": {},
     "output_type": "execute_result"
    }
   ],
   "source": [
    "audiq7.millage"
   ]
  },
  {
   "cell_type": "code",
   "execution_count": 21,
   "id": "c2bc3489",
   "metadata": {},
   "outputs": [],
   "source": [
    "nano =car()\n",
    "nano.millage=20\n",
    "nano.year=2020\n",
    "nano.model=234\n",
    "nano.model=\"sdfa\"\n",
    "nano.enginno=34354535"
   ]
  },
  {
   "cell_type": "code",
   "execution_count": 22,
   "id": "5c2574ad",
   "metadata": {},
   "outputs": [
    {
     "name": "stdout",
     "output_type": "stream",
     "text": [
      "20 10\n"
     ]
    }
   ],
   "source": [
    "print(nano.millage,audiq7.millage)"
   ]
  },
  {
   "cell_type": "code",
   "execution_count": 23,
   "id": "82eaaa5c",
   "metadata": {},
   "outputs": [],
   "source": [
    "#we have to write these specification again and agian so it \n",
    "#will take very much time\n"
   ]
  },
  {
   "cell_type": "code",
   "execution_count": 38,
   "id": "fe13a301",
   "metadata": {},
   "outputs": [],
   "source": [
    "class car:\n",
    "    def __init__(self,milage,year,make,model):\n",
    "        self.milage=milage\n",
    "        self.year=year\n",
    "        self.make=make\n",
    "        self.model=model\n",
    "#inside this function these are not keywords\n",
    "#init function is used to pass a data to a class \n",
    "#self is a pointer to itself and it is not a keyword\n",
    "#below these lines are variable of a car class\n",
    "#and these milage year make model are the class variable"
   ]
  },
  {
   "cell_type": "code",
   "execution_count": 42,
   "id": "81a66535",
   "metadata": {},
   "outputs": [],
   "source": [
    "nano1=car(20,2020,345343,\"jadslfkajd\")\n",
    "audiq71=car(10,2020,543,\"dfjd\")\n",
    "nano2=car(20,2020,345343,\"jadslfkajd\")\n",
    "audiq72=car(10,2020,543,\"dfjd\")\n",
    "nano3=car(20,2020,345343,\"jadslfkajd\")\n",
    "audiq73=car(10,2020,543,\"dfjd\")\n",
    "nano4=car(20,2020,345343,\"jadslfkajd\")\n",
    "audiq74=car(10,2020,543,\"dfjd\")\n",
    "nano5=car(20,2020,345343,\"jadslfkajd\")\n",
    "audiq75=car(10,2020,543,\"dfjd\")\n",
    "nano6=car(20,2020,345343,\"jadslfkajd\")\n",
    "audiq76=car(10,2020,543,\"dfjd\")\n"
   ]
  },
  {
   "cell_type": "code",
   "execution_count": 72,
   "id": "0ddb3d03",
   "metadata": {},
   "outputs": [
    {
     "data": {
      "text/plain": [
       "1"
      ]
     },
     "execution_count": 72,
     "metadata": {},
     "output_type": "execute_result"
    }
   ],
   "source": [
    "class car:\n",
    "    def __init__(a,m,y,ma,mo):\n",
    "        a.milage=m\n",
    "        a.year=y\n",
    "        a.make=ma\n",
    "        a.model=mo\n",
    "    def age(self,current_year):\n",
    "        return current_year-self.year #self is local pointer in this function\n",
    "    \n",
    "#these inside variables are associated with below variables and these below variables are associated with car class\n",
    "#we can set any variable name of bracket and any variable name of below variables  to call but we have to assign those\n",
    "#bracket variable to below variable\n",
    "audiq76=car(10,2020,543,\"dfjd\")\n",
    "audiq76.milage\n",
    "audiq76.age(2021)\n",
    "#init is inbuilt method age is method we created\n"
   ]
  },
  {
   "cell_type": "code",
   "execution_count": 92,
   "id": "76ad2fe7",
   "metadata": {},
   "outputs": [],
   "source": [
    "class car:\n",
    "    def __init__(a,m,y,ma,mo):\n",
    "        a.milage=m\n",
    "        a.year=y\n",
    "        a.make=ma\n",
    "        a.model=mo\n",
    "    def age(b,current_year):\n",
    "        return current_year-b.year #self is local pointer in this function through which i can call variables of car class\n",
    "    \n",
    "    \n",
    "    def milage1(self):\n",
    "        print(\"print a milage of car\",self.milage)\n",
    "#self is a pointer here\n",
    "    def __str__(c):\n",
    "        return \"this is my car class i have created\"\n",
    "#str is inbuilt fn which is used to give definition about objects"
   ]
  },
  {
   "cell_type": "code",
   "execution_count": 93,
   "id": "f45d7e47",
   "metadata": {},
   "outputs": [
    {
     "data": {
      "text/plain": [
       "10"
      ]
     },
     "execution_count": 93,
     "metadata": {},
     "output_type": "execute_result"
    }
   ],
   "source": [
    "audiq76=car(10,2020,543,\"dfjd\")\n",
    "audiq76.milage\n",
    "\n"
   ]
  },
  {
   "cell_type": "code",
   "execution_count": 94,
   "id": "ab4d04de",
   "metadata": {},
   "outputs": [
    {
     "name": "stdout",
     "output_type": "stream",
     "text": [
      "print a milage of car 10\n"
     ]
    }
   ],
   "source": [
    "audiq76.milage1()\n",
    "\n",
    "\n",
    "\n"
   ]
  },
  {
   "cell_type": "code",
   "execution_count": 95,
   "id": "a03e5483",
   "metadata": {},
   "outputs": [
    {
     "data": {
      "text/plain": [
       "2"
      ]
     },
     "execution_count": 95,
     "metadata": {},
     "output_type": "execute_result"
    }
   ],
   "source": [
    "audiq76.age(2022)"
   ]
  },
  {
   "cell_type": "code",
   "execution_count": 96,
   "id": "f130faaf",
   "metadata": {},
   "outputs": [
    {
     "name": "stdout",
     "output_type": "stream",
     "text": [
      "this is my car class i have created\n"
     ]
    }
   ],
   "source": [
    "print(audiq76)"
   ]
  },
  {
   "cell_type": "code",
   "execution_count": 136,
   "id": "5e927f34",
   "metadata": {},
   "outputs": [],
   "source": [
    "class student:\n",
    "    def __init__(self,name,rollno,joining_date,current_topic):\n",
    "        self.rollno=rollno\n",
    "        self.joining_date=joining_date\n",
    "        self.current_topic=current_topic\n",
    "        self.name=name\n",
    "        \n",
    "    def name_parsing(self):\n",
    "        if type(self.name)==list:\n",
    "            for i in self.name:\n",
    "                print(\"name of the student\",i)\n",
    "        else:\n",
    "            print(\"provided name is not in form of list\")\n",
    "    def crt_topic(self):\n",
    "        print(\"current topic discussed\",self.current_topic)\n",
    "    def str_rollno(self):\n",
    "        try:\n",
    "            if type(self.rollno)==str:\n",
    "                print(\"do nothing\")\n",
    "            else:\n",
    "                return str(self.rollno)\n",
    "        except Exception as e :\n",
    "            print(\"this is error msg\",e)\n",
    "    def duration(self,current_date):\n",
    "        print(\"duration of student in my class is \",current_date-self.joining_date)\n",
    "    def __str__(self):\n",
    "        return \"this is student calss where they can type to input there own data\""
   ]
  },
  {
   "cell_type": "code",
   "execution_count": 137,
   "id": "e7037f02",
   "metadata": {},
   "outputs": [],
   "source": [
    "srini=student(\"srini\",44.8,2021,\"oops\")"
   ]
  },
  {
   "cell_type": "code",
   "execution_count": 138,
   "id": "d97c5ba2",
   "metadata": {},
   "outputs": [
    {
     "name": "stdout",
     "output_type": "stream",
     "text": [
      "duration of student in my class is  0\n"
     ]
    }
   ],
   "source": [
    "srini.duration(2021)"
   ]
  },
  {
   "cell_type": "code",
   "execution_count": 139,
   "id": "70bbae8a",
   "metadata": {},
   "outputs": [
    {
     "data": {
      "text/plain": [
       "'44.8'"
      ]
     },
     "execution_count": 139,
     "metadata": {},
     "output_type": "execute_result"
    }
   ],
   "source": [
    "srini.str_rollno()"
   ]
  },
  {
   "cell_type": "code",
   "execution_count": 140,
   "id": "53a61f75",
   "metadata": {},
   "outputs": [
    {
     "name": "stdout",
     "output_type": "stream",
     "text": [
      "this is student calss where they can type to input there own data\n"
     ]
    }
   ],
   "source": [
    "print(srini)"
   ]
  },
  {
   "cell_type": "code",
   "execution_count": 141,
   "id": "17ba9fc2",
   "metadata": {},
   "outputs": [],
   "source": [
    "marur = student(\"marur\",\"dfsf\",5534,3434)"
   ]
  },
  {
   "cell_type": "code",
   "execution_count": 142,
   "id": "2f176ef6",
   "metadata": {},
   "outputs": [],
   "source": [
    "pawan = student([\"naveen\",\"jay\",\"himanshu\",\"prakash\"],[22,33,44,3,3],2021,\"oops\")"
   ]
  },
  {
   "cell_type": "code",
   "execution_count": 143,
   "id": "04a64aa6",
   "metadata": {},
   "outputs": [
    {
     "name": "stdout",
     "output_type": "stream",
     "text": [
      "name of the student naveen\n",
      "name of the student jay\n",
      "name of the student himanshu\n",
      "name of the student prakash\n"
     ]
    }
   ],
   "source": [
    "pawan.name_parsing()"
   ]
  },
  {
   "cell_type": "code",
   "execution_count": 144,
   "id": "4c793896",
   "metadata": {},
   "outputs": [
    {
     "data": {
      "text/plain": [
       "['naveen', 'jay', 'himanshu', 'prakash']"
      ]
     },
     "execution_count": 144,
     "metadata": {},
     "output_type": "execute_result"
    }
   ],
   "source": [
    "pawan.name"
   ]
  },
  {
   "cell_type": "code",
   "execution_count": 147,
   "id": "c549a91d",
   "metadata": {},
   "outputs": [
    {
     "data": {
      "text/plain": [
       "'C:\\\\Users\\\\Nikhi'"
      ]
     },
     "execution_count": 147,
     "metadata": {},
     "output_type": "execute_result"
    }
   ],
   "source": [
    "pwd()"
   ]
  },
  {
   "cell_type": "code",
   "execution_count": 3,
   "id": "51556fc0",
   "metadata": {},
   "outputs": [
    {
     "ename": "AttributeError",
     "evalue": "'data' object has no attribute 'fileopen'",
     "output_type": "error",
     "traceback": [
      "\u001b[1;31m---------------------------------------------------------------------------\u001b[0m",
      "\u001b[1;31mAttributeError\u001b[0m                            Traceback (most recent call last)",
      "\u001b[1;32m~\\AppData\\Local\\Temp/ipykernel_1192/1337050223.py\u001b[0m in \u001b[0;36m<module>\u001b[1;34m\u001b[0m\n\u001b[0;32m     18\u001b[0m         \u001b[1;32mreturn\u001b[0m \u001b[0mt\u001b[0m\u001b[1;33m.\u001b[0m\u001b[0mread\u001b[0m\u001b[1;33m(\u001b[0m\u001b[1;33m)\u001b[0m\u001b[1;33m\u001b[0m\u001b[1;33m\u001b[0m\u001b[0m\n\u001b[0;32m     19\u001b[0m \u001b[0mfile1\u001b[0m\u001b[1;33m=\u001b[0m\u001b[0mdata\u001b[0m\u001b[1;33m(\u001b[0m\u001b[1;34m\"file1\"\u001b[0m\u001b[1;33m,\u001b[0m\u001b[1;34m\"text\"\u001b[0m\u001b[1;33m,\u001b[0m\u001b[1;34m\"2021-4-11\"\u001b[0m\u001b[1;33m,\u001b[0m\u001b[1;34m\"2MB\"\u001b[0m\u001b[1;33m)\u001b[0m\u001b[1;33m\u001b[0m\u001b[1;33m\u001b[0m\u001b[0m\n\u001b[1;32m---> 20\u001b[1;33m \u001b[0mfile1\u001b[0m\u001b[1;33m.\u001b[0m\u001b[0mfileopen\u001b[0m\u001b[1;33m(\u001b[0m\u001b[1;33m)\u001b[0m\u001b[1;33m\u001b[0m\u001b[1;33m\u001b[0m\u001b[0m\n\u001b[0m\u001b[0;32m     21\u001b[0m \u001b[0mfile1\u001b[0m\u001b[1;33m.\u001b[0m\u001b[0mfileread\u001b[0m\u001b[1;33m(\u001b[0m\u001b[1;33m)\u001b[0m\u001b[1;33m\u001b[0m\u001b[1;33m\u001b[0m\u001b[0m\n\u001b[0;32m     22\u001b[0m \u001b[0mfile1\u001b[0m\u001b[1;33m.\u001b[0m\u001b[0mfileappend\u001b[0m\u001b[1;33m(\u001b[0m\u001b[1;33m)\u001b[0m\u001b[1;33m\u001b[0m\u001b[1;33m\u001b[0m\u001b[0m\n",
      "\u001b[1;31mAttributeError\u001b[0m: 'data' object has no attribute 'fileopen'"
     ]
    }
   ],
   "source": [
    "class data:\n",
    "    def __init__(self,file_name,file_type,date,size):\n",
    "        self.name=file_name\n",
    "        self.file_type=file_type\n",
    "        self.data=data\n",
    "        self.size=size\n",
    "    def file_open(file,file_name):\n",
    "        if self.file_name in \"C:\\\\Users\\\\Nikhi\":\n",
    "                f=open(self.file_name,\"w+\")\n",
    "        else:\n",
    "            f=open(self.file_name,\"r+\")\n",
    "        f.write(\"hello hello\")\n",
    "        f.close()\n",
    "    def file_read(self,file_name):\n",
    "        t=open(file_name,\"r\")\n",
    "        t.read()\n",
    "        t.close()\n",
    "        return t.read()\n",
    "file1=data(\"file1\",\"text\",\"2021-4-11\",\"2MB\")\n",
    "file1.fileopen()\n",
    "file1.fileread()\n",
    "file1.fileappend() \n",
    "\n",
    "        \n",
    "            \n",
    "    \n",
    "    "
   ]
  },
  {
   "cell_type": "code",
   "execution_count": 169,
   "id": "297d6768",
   "metadata": {},
   "outputs": [],
   "source": [
    "hello=data(\"hello\",\"txt\",4343,33)"
   ]
  },
  {
   "cell_type": "code",
   "execution_count": 170,
   "id": "4c43397b",
   "metadata": {},
   "outputs": [
    {
     "ename": "TypeError",
     "evalue": "expected str, bytes or os.PathLike object, not data",
     "output_type": "error",
     "traceback": [
      "\u001b[1;31m---------------------------------------------------------------------------\u001b[0m",
      "\u001b[1;31mTypeError\u001b[0m                                 Traceback (most recent call last)",
      "\u001b[1;32m~\\AppData\\Local\\Temp/ipykernel_4632/1579719351.py\u001b[0m in \u001b[0;36m<module>\u001b[1;34m\u001b[0m\n\u001b[1;32m----> 1\u001b[1;33m \u001b[0mhello\u001b[0m\u001b[1;33m.\u001b[0m\u001b[0mfile_read\u001b[0m\u001b[1;33m(\u001b[0m\u001b[0mhello\u001b[0m\u001b[1;33m)\u001b[0m\u001b[1;33m\u001b[0m\u001b[1;33m\u001b[0m\u001b[0m\n\u001b[0m",
      "\u001b[1;32m~\\AppData\\Local\\Temp/ipykernel_4632/2391540978.py\u001b[0m in \u001b[0;36mfile_read\u001b[1;34m(self, file_name)\u001b[0m\n\u001b[0;32m     13\u001b[0m         \u001b[0mf\u001b[0m\u001b[1;33m.\u001b[0m\u001b[0mclose\u001b[0m\u001b[1;33m(\u001b[0m\u001b[1;33m)\u001b[0m\u001b[1;33m\u001b[0m\u001b[1;33m\u001b[0m\u001b[0m\n\u001b[0;32m     14\u001b[0m     \u001b[1;32mdef\u001b[0m \u001b[0mfile_read\u001b[0m\u001b[1;33m(\u001b[0m\u001b[0mself\u001b[0m\u001b[1;33m,\u001b[0m\u001b[0mfile_name\u001b[0m\u001b[1;33m)\u001b[0m\u001b[1;33m:\u001b[0m\u001b[1;33m\u001b[0m\u001b[1;33m\u001b[0m\u001b[0m\n\u001b[1;32m---> 15\u001b[1;33m         \u001b[0mt\u001b[0m\u001b[1;33m=\u001b[0m\u001b[0mopen\u001b[0m\u001b[1;33m(\u001b[0m\u001b[0mfile_name\u001b[0m\u001b[1;33m,\u001b[0m\u001b[1;34m\"r\"\u001b[0m\u001b[1;33m)\u001b[0m\u001b[1;33m\u001b[0m\u001b[1;33m\u001b[0m\u001b[0m\n\u001b[0m\u001b[0;32m     16\u001b[0m         \u001b[0mt\u001b[0m\u001b[1;33m.\u001b[0m\u001b[0mread\u001b[0m\u001b[1;33m(\u001b[0m\u001b[1;33m)\u001b[0m\u001b[1;33m\u001b[0m\u001b[1;33m\u001b[0m\u001b[0m\n\u001b[0;32m     17\u001b[0m         \u001b[0mt\u001b[0m\u001b[1;33m.\u001b[0m\u001b[0mclose\u001b[0m\u001b[1;33m(\u001b[0m\u001b[1;33m)\u001b[0m\u001b[1;33m\u001b[0m\u001b[1;33m\u001b[0m\u001b[0m\n",
      "\u001b[1;31mTypeError\u001b[0m: expected str, bytes or os.PathLike object, not data"
     ]
    }
   ],
   "source": [
    "hello.file_read(hello)"
   ]
  },
  {
   "cell_type": "code",
   "execution_count": 9,
   "id": "422e44b9",
   "metadata": {},
   "outputs": [
    {
     "name": "stdout",
     "output_type": "stream",
     "text": [
      "this is test file\n"
     ]
    }
   ],
   "source": [
    "class data:\n",
    "    def __init__(self,filename,filetype,data,size):\n",
    "        self.filename=filename\n",
    "        self.filetype=filetype\n",
    "        self.data=data\n",
    "        self.size=size\n",
    "    def fileopen(self):\n",
    "        f=open(self.filename,\"w\")\n",
    "        f.write(\"this is test file\")\n",
    "        f.close()\n",
    "\n",
    "    def fileappend(self):\n",
    "        f=open(self.filename,\"a\")\n",
    "        f.write(\"Appending data to file\")\n",
    "        f.close()\n",
    "    def fileread(self):\n",
    "        f=open(self.filename,\"r\")\n",
    "        print(f.read())\n",
    "        f.close()\n",
    "        \n",
    "file1=data(\"file1\",\"text\",\"2021-4-11\",\"2MB\")\n",
    "file1.fileopen()\n",
    "file1.fileread()\n",
    "file1.fileappend() \n",
    "\n",
    "        "
   ]
  },
  {
   "cell_type": "code",
   "execution_count": null,
   "id": "075396b4",
   "metadata": {},
   "outputs": [],
   "source": []
  }
 ],
 "metadata": {
  "kernelspec": {
   "display_name": "Python 3 (ipykernel)",
   "language": "python",
   "name": "python3"
  },
  "language_info": {
   "codemirror_mode": {
    "name": "ipython",
    "version": 3
   },
   "file_extension": ".py",
   "mimetype": "text/x-python",
   "name": "python",
   "nbconvert_exporter": "python",
   "pygments_lexer": "ipython3",
   "version": "3.9.7"
  }
 },
 "nbformat": 4,
 "nbformat_minor": 5
}
